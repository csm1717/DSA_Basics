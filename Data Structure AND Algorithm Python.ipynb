{
 "cells": [
  {
   "cell_type": "markdown",
   "id": "d3378dad",
   "metadata": {},
   "source": [
    "# ARRAY"
   ]
  },
  {
   "cell_type": "code",
   "execution_count": 1,
   "id": "a0360d8d",
   "metadata": {},
   "outputs": [],
   "source": [
    "import ctypes "
   ]
  },
  {
   "cell_type": "code",
   "execution_count": 260,
   "id": "6c5f1673",
   "metadata": {},
   "outputs": [],
   "source": [
    "class Meralist:\n",
    "    def __init__(self):\n",
    "        self.size=1\n",
    "        self.n=0\n",
    "        #create c type array  with size  =self.size\n",
    "        self.A = self.__make_array(self.size)\n",
    "    # len function    \n",
    "    def __len__(self):\n",
    "        return self.n\n",
    "    \n",
    "    # print function\n",
    "    def __str__(self):\n",
    "        # o/p = [1,2,3]\n",
    "        result = \"\"\n",
    "        for i in range(self.n):\n",
    "            result = result+ str(self.A[i])+','\n",
    "            \n",
    "        return '['+result[:-1]+']'    \n",
    "    \n",
    "    # indexing function\n",
    "    def __getitem__(self,index):\n",
    "        if 0 <= index <= self.n:\n",
    "            return self.A[index]\n",
    "        else:\n",
    "            return \"IndexError- index outof range\"\n",
    "        \n",
    "    def __delitem__(self,pos):\n",
    "        if 0 <= pos <= self.n:\n",
    "            for i in range(pos,self.n-1):\n",
    "                self.A[i]=self.A[i+1]\n",
    "            \n",
    "        self.n = self.n-1\n",
    "    \n",
    "    # append function\n",
    "    def append(self,item):\n",
    "        if self.n == self.size:\n",
    "            # resize the array\n",
    "            self.__resize(self.size*2)\n",
    "        #append\n",
    "        self.A[self.n]=item\n",
    "        self.n=self.n +1\n",
    "    # pop Function   \n",
    "    def pop(self):\n",
    "        if self.n==0:\n",
    "            return \"Empty List\"\n",
    "        else:\n",
    "            print(self.A[self.n-1],\"Deleted\")\n",
    "            self.n = self.n-1\n",
    "            \n",
    "    # Clear function\n",
    "    def clear(self):\n",
    "        self.n=0\n",
    "        self.size = 1\n",
    "        \n",
    "    # Find function\n",
    "    def find(self,item):\n",
    "        for i in range(self.n):\n",
    "            if self.A[i]== item:\n",
    "                return i\n",
    "        \n",
    "        return \"Value Error: Not in list\"\n",
    "    \n",
    "    # Insert Function\n",
    "    def insert(self,pos,item):\n",
    "        if self.n == self.size:\n",
    "            self.__resize(self.size*2)\n",
    "            \n",
    "        for i in range(self.n , pos+1,-1):\n",
    "            self.A[i]=self.A[i-1]\n",
    "            \n",
    "        self.A[pos]=item\n",
    "        self.n = self.n+1\n",
    "        \n",
    "    def remove(self,item):\n",
    "        pos = self.find(item)\n",
    "        \n",
    "        if type(pos) == int:\n",
    "            #delete\n",
    "            self.__delitem__(pos)\n",
    "        else:\n",
    "            return pos\n",
    "    \n",
    "        \n",
    "    def __resize(self,new_capacity):\n",
    "        #create a new array with new capacity\n",
    "        B = self.__make_array(new_capacity)\n",
    "        self.size = new_capacity\n",
    "        #copy the content of A to B\n",
    "        for i in range(self.n):\n",
    "            B[i]=self.A[i]\n",
    "        #reassign A\n",
    "        self.A = B   \n",
    "        \n",
    "    \n",
    "    # creating list function\n",
    "    def __make_array(self,capacity):\n",
    "    # create a c type array(static,referntial) with size capacity\n",
    "        return (capacity*ctypes.py_object)()\n",
    "            \n",
    "    "
   ]
  },
  {
   "cell_type": "code",
   "execution_count": 261,
   "id": "94380f66",
   "metadata": {},
   "outputs": [],
   "source": [
    "L = Meralist()"
   ]
  },
  {
   "cell_type": "code",
   "execution_count": 262,
   "id": "7dffa658",
   "metadata": {},
   "outputs": [
    {
     "data": {
      "text/plain": [
       "__main__.Meralist"
      ]
     },
     "execution_count": 262,
     "metadata": {},
     "output_type": "execute_result"
    }
   ],
   "source": [
    "type(L)"
   ]
  },
  {
   "cell_type": "code",
   "execution_count": 263,
   "id": "dc8ce007",
   "metadata": {},
   "outputs": [
    {
     "data": {
      "text/plain": [
       "0"
      ]
     },
     "execution_count": 263,
     "metadata": {},
     "output_type": "execute_result"
    }
   ],
   "source": [
    "len(L)"
   ]
  },
  {
   "cell_type": "code",
   "execution_count": 265,
   "id": "ecddb6c5",
   "metadata": {},
   "outputs": [],
   "source": [
    "L.append(\"Hello\")\n",
    "L.append(300)\n",
    "L.append(True)\n"
   ]
  },
  {
   "cell_type": "code",
   "execution_count": 266,
   "id": "0abfa8a7",
   "metadata": {},
   "outputs": [
    {
     "name": "stdout",
     "output_type": "stream",
     "text": [
      "[Hello,300,True,Hello,300,True]\n"
     ]
    }
   ],
   "source": [
    "print(L)"
   ]
  },
  {
   "cell_type": "code",
   "execution_count": 197,
   "id": "e10cad4b",
   "metadata": {},
   "outputs": [
    {
     "data": {
      "text/plain": [
       "'Hello'"
      ]
     },
     "execution_count": 197,
     "metadata": {},
     "output_type": "execute_result"
    }
   ],
   "source": [
    "L[2]"
   ]
  },
  {
   "cell_type": "code",
   "execution_count": 192,
   "id": "35c34a93",
   "metadata": {},
   "outputs": [
    {
     "name": "stdout",
     "output_type": "stream",
     "text": [
      "True Deleted\n"
     ]
    }
   ],
   "source": [
    "L.pop()"
   ]
  },
  {
   "cell_type": "code",
   "execution_count": 198,
   "id": "20be9855",
   "metadata": {},
   "outputs": [
    {
     "name": "stdout",
     "output_type": "stream",
     "text": [
      "[Hello,300,Hello,300,True]\n"
     ]
    }
   ],
   "source": [
    "print(L)"
   ]
  },
  {
   "cell_type": "code",
   "execution_count": 114,
   "id": "7cd6b25f",
   "metadata": {},
   "outputs": [],
   "source": [
    "L.clear()"
   ]
  },
  {
   "cell_type": "code",
   "execution_count": 194,
   "id": "9f0fd694",
   "metadata": {},
   "outputs": [
    {
     "name": "stdout",
     "output_type": "stream",
     "text": [
      "[Hello,300]\n"
     ]
    }
   ],
   "source": [
    "print(L)"
   ]
  },
  {
   "cell_type": "code",
   "execution_count": 199,
   "id": "91ef4271",
   "metadata": {},
   "outputs": [
    {
     "data": {
      "text/plain": [
       "1"
      ]
     },
     "execution_count": 199,
     "metadata": {},
     "output_type": "execute_result"
    }
   ],
   "source": [
    "L.find(300)\n"
   ]
  },
  {
   "cell_type": "code",
   "execution_count": 200,
   "id": "a3ec01d3",
   "metadata": {},
   "outputs": [
    {
     "data": {
      "text/plain": [
       "'Value Error: Not in list'"
      ]
     },
     "execution_count": 200,
     "metadata": {},
     "output_type": "execute_result"
    }
   ],
   "source": [
    "L.find(45)"
   ]
  },
  {
   "cell_type": "code",
   "execution_count": 201,
   "id": "99ec5e87",
   "metadata": {},
   "outputs": [],
   "source": [
    "L.insert(0,0)"
   ]
  },
  {
   "cell_type": "code",
   "execution_count": 270,
   "id": "a28f08e8",
   "metadata": {},
   "outputs": [
    {
     "name": "stdout",
     "output_type": "stream",
     "text": [
      "[300,Hello,300,True]\n"
     ]
    }
   ],
   "source": [
    "print(L)"
   ]
  },
  {
   "cell_type": "code",
   "execution_count": 225,
   "id": "e7f6f685",
   "metadata": {},
   "outputs": [],
   "source": [
    "L.insert(3,\"World\")\n"
   ]
  },
  {
   "cell_type": "code",
   "execution_count": 227,
   "id": "eb39ef76",
   "metadata": {},
   "outputs": [],
   "source": [
    "del L[3]"
   ]
  },
  {
   "cell_type": "code",
   "execution_count": 269,
   "id": "27cf7939",
   "metadata": {},
   "outputs": [],
   "source": [
    "L.remove(True)"
   ]
  },
  {
   "cell_type": "markdown",
   "id": "6d94afd3",
   "metadata": {},
   "source": [
    "# LinkedList"
   ]
  },
  {
   "cell_type": "code",
   "execution_count": 287,
   "id": "8e0ba32c",
   "metadata": {},
   "outputs": [],
   "source": [
    "class Node:\n",
    "    def __init__(self,value):\n",
    "        self.data= value\n",
    "        self.next= None"
   ]
  },
  {
   "cell_type": "code",
   "execution_count": 288,
   "id": "88265af2",
   "metadata": {},
   "outputs": [
    {
     "name": "stdout",
     "output_type": "stream",
     "text": [
      "<__main__.Node object at 0x000001CBD86772B0>\n"
     ]
    }
   ],
   "source": [
    "a = Node(1)\n",
    "# if you print object it will address unless you are using str/magic method.\n",
    "print(a) "
   ]
  },
  {
   "cell_type": "code",
   "execution_count": 307,
   "id": "52ab73f5",
   "metadata": {},
   "outputs": [],
   "source": [
    "class LinkedList:\n",
    "    def __init__(self):\n",
    "        #Empty Link List\n",
    "        self.head = None\n",
    "        # no. of nodes in LL\n",
    "        self.n = 0\n",
    "        \n",
    "    def __len__(self):\n",
    "        return self.n\n",
    "    \n",
    "    def insert_head(self,value):\n",
    "        #new node\n",
    "        new_node=Node(value)\n",
    "        \n",
    "        #create connection\n",
    "        new_node.next = self.head\n",
    "        \n",
    "        #reassign head\n",
    "        self.head = new_node\n",
    "        \n",
    "        #increment n\n",
    "        self.n = self.n+1\n",
    "        \n",
    "    def __str__(self):\n",
    "        curr = self.head\n",
    "        \n",
    "        result = ''\n",
    "        while curr != None:\n",
    "            result = result + str(curr.data)+ '->'\n",
    "            curr=curr.next\n",
    "            \n",
    "        return result[:-2]\n",
    "    \n",
    "    def append(self,value):\n",
    "        \n",
    "        new_node=Node(value)\n",
    "\n",
    "        if self.head == None:\n",
    "            #for empty linkedlist\n",
    "            self.head = new_node\n",
    "            self.n  =self.n +1\n",
    "            return # to stop code here\n",
    "        \n",
    "        curr = self.head\n",
    "        \n",
    "        while curr.next != None:\n",
    "            curr=curr.next\n",
    "            \n",
    "        #you are at the last node \n",
    "        curr.next = new_node\n",
    "        self.n  =self.n +1\n",
    "        \n",
    "    def insert_after(self,after,value):\n",
    "        new_node=Node(value)\n",
    "        \n",
    "        curr= self.head\n",
    "        \n",
    "        while curr != None:\n",
    "            if curr.data == after:\n",
    "                break\n",
    "            curr = curr.next\n",
    "            \n",
    "            #case1 break- item apko mil gaya\n",
    "            if curr != None:\n",
    "                #logic\n",
    "                new_node.next = curr.next\n",
    "                curr.next = new_node\n",
    "                self.n = self.n +1\n",
    "            # case 2 loop pura chala -> item nahi mila -> curr -> None\n",
    "            else:\n",
    "                return \"Item not found.\"\n",
    "            \n",
    "    def clear(self):\n",
    "        self.head = None\n",
    "        self.n = 0\n",
    "        \n",
    "    def delete_head(self):\n",
    "        if self.head == None:\n",
    "            return \"Empty link list\"\n",
    "        \n",
    "        self.head=self.head.next\n",
    "        self.n= self.n -1\n",
    "        \n",
    "    def pop(self):\n",
    "        if self.head == None:\n",
    "            return \"Empty Link list\"       \n",
    "            \n",
    "        curr=self.head\n",
    "\n",
    "        if curr.next == None:\n",
    "            return self.delete_head()\n",
    "    \n",
    "        while curr.next.next != None:\n",
    "                curr= curr.next\n",
    "            \n",
    "            #curr -> 2nd last node\n",
    "        curr.next = None\n",
    "        self.n=self.n -1\n",
    "        \n",
    "    def remove(self,value):\n",
    "        if self.head == None:\n",
    "            return \"Empty Link LIST\"\n",
    "        \n",
    "        if self.head==value:\n",
    "            return self.delete_head\n",
    "        \n",
    "        curr = self.head\n",
    "        \n",
    "        while curr.next != None:\n",
    "            if curr.next.data == value:\n",
    "                break\n",
    "            curr=curr.next\n",
    "            \n",
    "        #2cases\n",
    "        #item mil gaya\n",
    "        if curr.next == None:\n",
    "            return \"Not Found\"\n",
    "        # item nahi mila\n",
    "        else:\n",
    "            curr.next=curr.next.next\n",
    "            \n",
    "    def search(self,item):\n",
    "        curr = self.head\n",
    "        pos = 0\n",
    "        \n",
    "        while curr!= None:\n",
    "            if curr.data == item:\n",
    "                return pos\n",
    "            curr=curr.next\n",
    "            pos=pos+1\n",
    "            \n",
    "        return \"Item Not found\"\n",
    "    \n",
    "    def __getitem__(self,index):\n",
    "        curr = self.head\n",
    "        pos = 0\n",
    "        \n",
    "        while curr != None:\n",
    "            if pos == index:\n",
    "                return curr.data\n",
    "            curr = curr.next\n",
    "            pos = pos +1\n",
    "            \n",
    "        return \"IndexError\"\n",
    "    \n",
    "    def fun(head):\n",
    "        if head==None:\n",
    "            return\n",
    "        if head.next.next!=None:\n",
    "            print(head.data,\"\",end=\"\")\n",
    "            fun(head.next)\n",
    "        print(head.data,'',end=\"\")\n",
    "        \n",
    "    # sum the elemnts od odd positions\n",
    "    def sum_odd_nodes(self):\n",
    "        \n",
    "        temp = self.head\n",
    "        counter = 0\n",
    "        result = 0\n",
    "        \n",
    "        while temp != None:\n",
    "            \n",
    "            if counter%2 != 0:\n",
    "                result= result+temp.data\n",
    "                \n",
    "            counter +=1\n",
    "            temp=temp.next\n",
    "            \n",
    "        print(result)\n",
    "        \n",
    "    def reverse(self):\n",
    "        prev_node = None\n",
    "        curr = self.head\n",
    "        \n",
    "        while curr != None:\n",
    "            temp = curr.next\n",
    "            curr.next = prev_node\n",
    "            prev_node=curr\n",
    "            curr = temp\n",
    "            \n",
    "        self.head = prev_node\n",
    "        \n",
    "    \n",
    "    \n",
    "    \n",
    "\n"
   ]
  },
  {
   "cell_type": "code",
   "execution_count": 308,
   "id": "8779696c",
   "metadata": {},
   "outputs": [],
   "source": [
    "L = LinkedList()"
   ]
  },
  {
   "cell_type": "code",
   "execution_count": 309,
   "id": "7f8210cf",
   "metadata": {},
   "outputs": [
    {
     "data": {
      "text/plain": [
       "0"
      ]
     },
     "execution_count": 309,
     "metadata": {},
     "output_type": "execute_result"
    }
   ],
   "source": [
    "len(L)"
   ]
  },
  {
   "cell_type": "code",
   "execution_count": 310,
   "id": "d2b761ee",
   "metadata": {},
   "outputs": [],
   "source": [
    "L.insert_head(1)\n",
    "L.insert_head(2)\n",
    "L.insert_head(3)\n",
    "L.insert_head(4)\n",
    "L.insert_head(5)\n"
   ]
  },
  {
   "cell_type": "code",
   "execution_count": 311,
   "id": "7f352af3",
   "metadata": {},
   "outputs": [
    {
     "data": {
      "text/plain": [
       "5"
      ]
     },
     "execution_count": 311,
     "metadata": {},
     "output_type": "execute_result"
    }
   ],
   "source": [
    "len(L)"
   ]
  },
  {
   "cell_type": "code",
   "execution_count": 316,
   "id": "219624da",
   "metadata": {},
   "outputs": [
    {
     "name": "stdout",
     "output_type": "stream",
     "text": [
      "59->1->2->3->4->5\n"
     ]
    }
   ],
   "source": [
    "print(L)"
   ]
  },
  {
   "cell_type": "code",
   "execution_count": 313,
   "id": "f794508d",
   "metadata": {},
   "outputs": [],
   "source": [
    "L.append(59)"
   ]
  },
  {
   "cell_type": "code",
   "execution_count": 31,
   "id": "36f25b8d",
   "metadata": {},
   "outputs": [],
   "source": [
    "#L.insert_after(59,100)"
   ]
  },
  {
   "cell_type": "code",
   "execution_count": 238,
   "id": "fb8ae455",
   "metadata": {},
   "outputs": [],
   "source": [
    "L.clear()"
   ]
  },
  {
   "cell_type": "code",
   "execution_count": 97,
   "id": "bbddd308",
   "metadata": {},
   "outputs": [],
   "source": [
    "L.delete_head()"
   ]
  },
  {
   "cell_type": "code",
   "execution_count": 142,
   "id": "21b02984",
   "metadata": {},
   "outputs": [
    {
     "data": {
      "text/plain": [
       "'Empty Link list'"
      ]
     },
     "execution_count": 142,
     "metadata": {},
     "output_type": "execute_result"
    }
   ],
   "source": [
    "L.pop()"
   ]
  },
  {
   "cell_type": "code",
   "execution_count": 226,
   "id": "fbb68f84",
   "metadata": {},
   "outputs": [],
   "source": [
    "L.remove(59)"
   ]
  },
  {
   "cell_type": "code",
   "execution_count": 227,
   "id": "e448b6b1",
   "metadata": {},
   "outputs": [
    {
     "data": {
      "text/plain": [
       "1"
      ]
     },
     "execution_count": 227,
     "metadata": {},
     "output_type": "execute_result"
    }
   ],
   "source": [
    "L.search(3)"
   ]
  },
  {
   "cell_type": "code",
   "execution_count": 229,
   "id": "fa7bc7d8",
   "metadata": {},
   "outputs": [
    {
     "data": {
      "text/plain": [
       "1"
      ]
     },
     "execution_count": 229,
     "metadata": {},
     "output_type": "execute_result"
    }
   ],
   "source": [
    "L[3]"
   ]
  },
  {
   "cell_type": "code",
   "execution_count": 300,
   "id": "ff402dc9",
   "metadata": {},
   "outputs": [
    {
     "name": "stdout",
     "output_type": "stream",
     "text": [
      "65\n"
     ]
    }
   ],
   "source": [
    "L.sum_odd_nodes()"
   ]
  },
  {
   "cell_type": "code",
   "execution_count": 315,
   "id": "210778df",
   "metadata": {},
   "outputs": [],
   "source": [
    "L.reverse()"
   ]
  },
  {
   "cell_type": "code",
   "execution_count": null,
   "id": "856aa903",
   "metadata": {},
   "outputs": [],
   "source": []
  },
  {
   "cell_type": "code",
   "execution_count": null,
   "id": "225fb1bb",
   "metadata": {},
   "outputs": [],
   "source": []
  },
  {
   "cell_type": "code",
   "execution_count": null,
   "id": "5b655475",
   "metadata": {},
   "outputs": [],
   "source": []
  },
  {
   "cell_type": "code",
   "execution_count": 276,
   "id": "201325dc",
   "metadata": {},
   "outputs": [
    {
     "data": {
      "text/plain": [
       "[19, 5, 4, 2]"
      ]
     },
     "execution_count": 276,
     "metadata": {},
     "output_type": "execute_result"
    }
   ],
   "source": [
    "# write a programe to find out max value from list and replace with it given value\n",
    "l = [4,5,6,2]\n",
    "\n",
    "def replace_max(value,l):\n",
    "    max = l[0]\n",
    "    for i in range(len(l)):\n",
    "        for j in range(i+1,len(l)):\n",
    "            if l[i]<l[j]:\n",
    "                temp = l[i]\n",
    "                l[i]=l[j]\n",
    "                l[j]=temp\n",
    "               \n",
    "    l[0]=value\n",
    "    return l \n",
    "\n",
    "replace_max(19,l)\n",
    "        "
   ]
  },
  {
   "cell_type": "code",
   "execution_count": 280,
   "id": "a00a6a90",
   "metadata": {},
   "outputs": [
    {
     "data": {
      "text/plain": [
       "21"
      ]
     },
     "execution_count": 280,
     "metadata": {},
     "output_type": "execute_result"
    }
   ],
   "source": [
    "# sum the elemnts od odd positions\n",
    "L = [4,5,6,7,8,9]\n",
    "def sum_odd_nodes(L):\n",
    "    a = 0\n",
    "    for i in range(len(L)):\n",
    "        if i%2 == 1 :\n",
    "            a+=L[i]\n",
    "            \n",
    "    return a\n",
    "          \n",
    "sum_odd_nodes(L)\n"
   ]
  },
  {
   "cell_type": "code",
   "execution_count": 306,
   "id": "51c6f1a7",
   "metadata": {},
   "outputs": [
    {
     "name": "stdout",
     "output_type": "stream",
     "text": [
      "3\n",
      "[21, 20, 19, 18, 17, 16, 15]\n"
     ]
    }
   ],
   "source": [
    "# revese list without using function\n",
    "l = [15,16,17,18,19,20,21]\n",
    "print(len(l)//2)\n",
    "for i in range(len(l)//2):\n",
    "    temp = l[i]\n",
    "    l[i]=l[len(l)-i-1]\n",
    "    l[len(l)-i-1]=temp\n",
    "    \n",
    "print(l)\n"
   ]
  },
  {
   "cell_type": "code",
   "execution_count": 323,
   "id": "a34d28f2",
   "metadata": {},
   "outputs": [
    {
     "name": "stdout",
     "output_type": "stream",
     "text": [
      "[55, 78, 96, 4, 57, 32]\n"
     ]
    }
   ],
   "source": [
    "# remove duplicates without using sets\n",
    "L = [55,55,78,96,4,57,57,96,32]\n",
    "M= []\n",
    "for i in L:\n",
    "    if i not in M:\n",
    "        M.append(i)\n",
    "\n",
    "L=M\n",
    "print(L)\n"
   ]
  },
  {
   "cell_type": "markdown",
   "id": "83e1d74f",
   "metadata": {},
   "source": [
    "# STACKS\n",
    "\n",
    "### LIFO(Last In First Out)\n"
   ]
  },
  {
   "cell_type": "code",
   "execution_count": 391,
   "id": "3d0c555c",
   "metadata": {},
   "outputs": [],
   "source": [
    "class Node:\n",
    "    def __init__(self,value):\n",
    "        self.data=value\n",
    "        self.next=None\n",
    "    "
   ]
  },
  {
   "cell_type": "code",
   "execution_count": 392,
   "id": "54a5f8e6",
   "metadata": {},
   "outputs": [],
   "source": [
    "class Stack:\n",
    "    \n",
    "    def __init__(self):\n",
    "        self.top = None\n",
    "        \n",
    "    def push(self,value):\n",
    "        \n",
    "        new_node = Node(value)\n",
    "        new_node.next=self.top\n",
    "        self.top=new_node\n",
    "        \n",
    "    def pop(self):\n",
    "        if self.top == None:\n",
    "            return \"Empty Stack\"\n",
    "        else:\n",
    "            data = self.top.data\n",
    "            self.top=self.top.next\n",
    "            return data\n",
    "            \n",
    "    def is_empty(self):\n",
    "        return self.top == None\n",
    "    \n",
    "    def peak(self):\n",
    "         if self.top == None:\n",
    "            return \"Empty Stack\"\n",
    "         else:\n",
    "            return self.top.data\n",
    "        \n",
    "    def traverse(self):\n",
    "        temp = self.top\n",
    "        \n",
    "        while temp is not None:\n",
    "            print(temp.data,end=' ')\n",
    "            temp=temp.next\n",
    "            \n",
    "    def size(self,stack):\n",
    "        temp = self.top\n",
    "        if temp == None:\n",
    "            return \"empty stack\"\n",
    "        count = 0\n",
    "        \n",
    "        for i in range(len(stack)):\n",
    "            if temp != None:\n",
    "                count+=1\n",
    "                temp = temp.next\n",
    "                return count\n",
    "            \n",
    "        \n",
    "    \n",
    "        "
   ]
  },
  {
   "cell_type": "markdown",
   "id": "bc798289",
   "metadata": {},
   "source": [
    "# Dictionary"
   ]
  },
  {
   "cell_type": "markdown",
   "id": "c23e1d0c",
   "metadata": {},
   "source": [
    "## 2) open addressing - a) linear probing"
   ]
  },
  {
   "cell_type": "code",
   "execution_count": 94,
   "id": "2e220b61",
   "metadata": {},
   "outputs": [],
   "source": [
    "class Dictionary:\n",
    "    def __init__(self,size):\n",
    "        self.size = size\n",
    "        self.slots = [None] * self.size\n",
    "        self.data = [None] * self.size\n",
    "        \n",
    "    def put(self,key,value):\n",
    "        hash_value = self.hash_function(key)\n",
    "        \n",
    "        if self.slots[hash_value]== None:\n",
    "            self.slots[hash_value]=key\n",
    "            self.data[hash_value]=value\n",
    "        else:\n",
    "            if self.slots[hash_value]==key:# if already same key is there then update just value \n",
    "                self.data[hash_value]=value # upadte the value of key if key is same\n",
    "            else:\n",
    "                new_hash_value = self.rehash(hash_value)\n",
    "                \n",
    "                while self.slots[new_hash_value] != None and self.slots[new_hash_value]!=key:\n",
    "                    new_hash_value = self.rehash(new_hash_value)\n",
    "                \n",
    "                if self.slots[new_hash_value]==None:\n",
    "                    self.slots[new_hash_value]= key\n",
    "                    self.data[new_hash_value]=value\n",
    "                else:\n",
    "                    self.data[new_hash_value]=value\n",
    "       \n",
    "    def get(self,key): # 3 conditions 1)key mil gaya 2)last tak nahi mila 3)inbetween None mila means nahi hai\n",
    "        start_position = self.hash_function(key)\n",
    "        current_position = start_position\n",
    "        \n",
    "        while self.slots[current_position]!= None:# 3)inbetween None mila means nahi hai\n",
    "            if self.slots[current_position]== key: # 1)key mil gaya \n",
    "                return self.data[current_position]\n",
    "            \n",
    "            current_position=self.rehash(current_position)\n",
    "        \n",
    "            if current_position == start_position:# 2)last tak nahi mila\n",
    "                return \"Not Found\"\n",
    "        return \" none wala Not Found\" \n",
    "    \n",
    "    def __str__(self):\n",
    "        for i in range(len(self.slots)):\n",
    "            if self.slots[i]!=None:\n",
    "                print(self.slots[i],\":\",self.data[i], end = ' ')\n",
    "            else:\n",
    "                return \"Empty Dictionary\"\n",
    "                \n",
    "        return \" \"   \n",
    "            \n",
    "            \n",
    "    def __getitem__(self,key): # can use this syntax Dict[key]\n",
    "        return self.get(key)\n",
    "    \n",
    "    def __setitem__(self,key,value):# can use this syntax Dict[key]= value\n",
    "        self.put(key,value)\n",
    "            \n",
    "    def rehash(self,old_hash):\n",
    "        return (old_hash + 1)%self.size\n",
    "        \n",
    "    def hash_function(self,key):\n",
    "        return abs(hash(key))%self.size"
   ]
  },
  {
   "cell_type": "code",
   "execution_count": 95,
   "id": "edde1b38",
   "metadata": {},
   "outputs": [],
   "source": [
    "D1 = Dictionary(3)"
   ]
  },
  {
   "cell_type": "code",
   "execution_count": 96,
   "id": "e3d5400f",
   "metadata": {},
   "outputs": [
    {
     "name": "stdout",
     "output_type": "stream",
     "text": [
      "[None, None, None]\n",
      "[None, None, None]\n"
     ]
    }
   ],
   "source": [
    "print(D1.slots)\n",
    "print(D1.data)"
   ]
  },
  {
   "cell_type": "code",
   "execution_count": 83,
   "id": "b4cfbfc9",
   "metadata": {},
   "outputs": [],
   "source": [
    "D1.put('python',45)"
   ]
  },
  {
   "cell_type": "code",
   "execution_count": 84,
   "id": "f2431465",
   "metadata": {},
   "outputs": [],
   "source": [
    "D1.put('java',1000)"
   ]
  },
  {
   "cell_type": "code",
   "execution_count": 85,
   "id": "f00248a8",
   "metadata": {},
   "outputs": [],
   "source": [
    "D1.put('php',5000)"
   ]
  },
  {
   "cell_type": "code",
   "execution_count": null,
   "id": "106ed7df",
   "metadata": {},
   "outputs": [],
   "source": [
    "#d1.put('c',10000)\n",
    "# since array is full so it goes under infinite loop"
   ]
  },
  {
   "cell_type": "code",
   "execution_count": 47,
   "id": "18b2f1c9",
   "metadata": {},
   "outputs": [],
   "source": [
    "# After using __setitem__  magic method\n",
    "D1['python']=56\n",
    "D1['java']=1000\n",
    "D1['php']=5000\n"
   ]
  },
  {
   "cell_type": "code",
   "execution_count": 58,
   "id": "37b19d1d",
   "metadata": {},
   "outputs": [
    {
     "data": {
      "text/plain": [
       "' none wala Not Found'"
      ]
     },
     "execution_count": 58,
     "metadata": {},
     "output_type": "execute_result"
    }
   ],
   "source": [
    "D1.get(\"cc\")"
   ]
  },
  {
   "cell_type": "code",
   "execution_count": 97,
   "id": "44bed15d",
   "metadata": {},
   "outputs": [
    {
     "name": "stdout",
     "output_type": "stream",
     "text": [
      "Empty Dictionary\n"
     ]
    }
   ],
   "source": [
    "print(D1)"
   ]
  },
  {
   "cell_type": "markdown",
   "id": "73f78a77",
   "metadata": {},
   "source": [
    "## 1) closed addressing - Chaining"
   ]
  },
  {
   "cell_type": "code",
   "execution_count": 7,
   "id": "4d133521",
   "metadata": {},
   "outputs": [],
   "source": [
    "class Node:\n",
    "    def __init__(self,key,value):\n",
    "        self.key=key\n",
    "        self.value=value\n",
    "        self.next =None"
   ]
  },
  {
   "cell_type": "code",
   "execution_count": 8,
   "id": "485b1d78",
   "metadata": {},
   "outputs": [],
   "source": [
    "class LL:\n",
    "    def __init__(self):\n",
    "        self.head = None\n",
    "        \n",
    "    def add(self,key,value):\n",
    "        \n",
    "        new_node = Node(key,value)\n",
    "        \n",
    "        if self.head == None:\n",
    "            self.head = new_node\n",
    "        else:\n",
    "            \n",
    "            temp = self.head\n",
    "            \n",
    "            while temp.next != None:\n",
    "                temp = temp.next\n",
    "                \n",
    "            temp.next = new_node\n",
    "            \n",
    "    def remove(self,key):\n",
    "        if self.head.key == key:\n",
    "            self.delete_head()\n",
    "            return\n",
    "        \n",
    "        if self.head == None:\n",
    "            return \"Empty\"\n",
    "        else:\n",
    "            temp = self.head\n",
    "            \n",
    "            while temp.next != None:\n",
    "                if temp.next.key == key:\n",
    "                    break\n",
    "                temp=temp.next\n",
    "                \n",
    "            if temp.next == None:\n",
    "                return \"Not found\"\n",
    "            else:\n",
    "                temp.next = temp.next.next\n",
    "     \n",
    "    def delete_head(self):\n",
    "        if self.head == None:\n",
    "            return \"Empty link list\"\n",
    "        \n",
    "        self.head=self.head.next\n",
    "        self.n= self.n -1\n",
    "    \n",
    "    def traverse(self):\n",
    "        \n",
    "        temp = self.head\n",
    "        \n",
    "        while temp != None:\n",
    "            print(temp.key,\"-->\",temp.value,\" \",end=' ')\n",
    "            temp = temp.next\n",
    "\n",
    "    def size(self):\n",
    "        \n",
    "        temp = self.head\n",
    "        counter = 0\n",
    "        \n",
    "        while temp != None:\n",
    "            counter+=1\n",
    "            temp = temp.next\n",
    "            \n",
    "        return counter\n",
    "            \n",
    "    def search(self,key):\n",
    "        temp= self.head\n",
    "        pos=0\n",
    "        \n",
    "        while temp != None:\n",
    "            \n",
    "            if temp.key == key:\n",
    "                return pos\n",
    "            \n",
    "            temp = temp.next\n",
    "            pos = pos+1\n",
    "            \n",
    "        return -1   \n",
    "    \n",
    "    def get_node_at_index(self,index):\n",
    "        temp = self.head\n",
    "        counter = 0\n",
    "\n",
    "        while temp is not None:\n",
    "            if counter == index:\n",
    "                return temp\n",
    "        temp = temp.next\n",
    "        cpunter+=1"
   ]
  },
  {
   "cell_type": "code",
   "execution_count": 24,
   "id": "1792a94c",
   "metadata": {},
   "outputs": [],
   "source": [
    "class Dictionary:\n",
    "    def __init__(self,capacity):\n",
    "        self.capacity = capacity\n",
    "        self.size =0\n",
    "        # create array of ll\n",
    "        self.buckets = self.make_array(self.capacity)\n",
    "        \n",
    "    def __setitem__(self,key,value):\n",
    "        self.put(key,value)\n",
    "        \n",
    "    def __getitem__(self,key):\n",
    "        return self.get(key)\n",
    "    \n",
    "    def __delitem__(self,key):\n",
    "        bucket_index = self.hash_function(key)\n",
    "        self.buckets[bucket_index].remove(key)\n",
    "        self.size-=1\n",
    "            \n",
    "    def __str__(self):\n",
    "        for i in self.buckets:\n",
    "            i.traverse()\n",
    "            \n",
    "        return \"\"\n",
    "\n",
    "    def get(self,key):\n",
    "        \n",
    "        bucket_index = self.hash_function(key)\n",
    "        res = self.buckets[bucket_index].search(key)\n",
    "        \n",
    "        if res == -1:\n",
    "            return \"Not found\"\n",
    "        else:\n",
    "            node = self.buckets[bucket_index].get_node_at_index(res)\n",
    "            return node.value\n",
    "    \n",
    "    \n",
    "    \n",
    "    def make_array(self,capacity):\n",
    "        L =[] \n",
    "        \n",
    "        for i in range(capacity):\n",
    "            L.append(LL())\n",
    "        return L\n",
    "            \n",
    "    def put(self,key,value):\n",
    "        bucket_index = self.hash_function(key)\n",
    "        \n",
    "        node_index = self.get_node_index(bucket_index,key)\n",
    "        \n",
    "        if node_index == -1:\n",
    "            #insert\n",
    "            self.buckets[bucket_index].add(key,value)\n",
    "            self.size+=1\n",
    "            \n",
    "            load_factor = self.size/self.capacity\n",
    "            print(load_factor)\n",
    "            \n",
    "            if (load_factor >= 2):\n",
    "                self.rehash()\n",
    "            \n",
    "        else:\n",
    "            #update\n",
    "            # we have write function(get_node_index) in LL to find the key from index\n",
    "            \n",
    "            node = self.buckets[bucket_index].get_node_at_index(node_index)\n",
    "            node.value = value\n",
    "            \n",
    "    def rehash(self):\n",
    "        self.capacity = self.capacity*2\n",
    "        old_buckets = self.buckets\n",
    "        self.size = 0\n",
    "        self.buckets = self.make_array(self.capacity)\n",
    "        \n",
    "        for i in old_buckets:\n",
    "            for j in range(i.size()):\n",
    "                node = i.get_node_at_index(j)\n",
    "                key_item = node.key\n",
    "                value_item = node.value\n",
    "#               self.put(key_item,value_item,rehash = False)\n",
    "                \n",
    "                bucket_index = self.hash_function(key_item)\n",
    "                self.buckets[bucket_index].add(key_item, value_item)\n",
    "                self.size += 1\n",
    "           \n",
    "            \n",
    "            \n",
    "    def get_node_index(self,bucket_index,key):\n",
    "        node_index = self.buckets[bucket_index].search(key) \n",
    "        return node_index\n",
    "    \n",
    "    def hash_function(self,key):\n",
    "        return abs(hash(key))%self.capacity\n",
    "    "
   ]
  },
  {
   "cell_type": "code",
   "execution_count": 10,
   "id": "3e90f79c",
   "metadata": {},
   "outputs": [],
   "source": [
    "L =[]\n",
    "capacity= 3       \n",
    "for i in range(capacity):\n",
    "    L.append(LL())"
   ]
  },
  {
   "cell_type": "code",
   "execution_count": 11,
   "id": "b55fc1e9",
   "metadata": {},
   "outputs": [
    {
     "data": {
      "text/plain": [
       "[<__main__.LL at 0x1303df60cd0>,\n",
       " <__main__.LL at 0x1303df60d90>,\n",
       " <__main__.LL at 0x1303df60580>]"
      ]
     },
     "execution_count": 11,
     "metadata": {},
     "output_type": "execute_result"
    }
   ],
   "source": [
    "L"
   ]
  },
  {
   "cell_type": "code",
   "execution_count": 12,
   "id": "d3a72e23",
   "metadata": {},
   "outputs": [
    {
     "data": {
      "text/plain": [
       "list"
      ]
     },
     "execution_count": 12,
     "metadata": {},
     "output_type": "execute_result"
    }
   ],
   "source": [
    "type(L)\n"
   ]
  },
  {
   "cell_type": "code",
   "execution_count": 13,
   "id": "70ae026b",
   "metadata": {},
   "outputs": [
    {
     "data": {
      "text/plain": [
       "__main__.LL"
      ]
     },
     "execution_count": 13,
     "metadata": {},
     "output_type": "execute_result"
    }
   ],
   "source": [
    "type(L[0])"
   ]
  },
  {
   "cell_type": "code",
   "execution_count": 14,
   "id": "9e53c76a",
   "metadata": {},
   "outputs": [],
   "source": [
    "M = [LL()]*3 # we do not use this since it split single object and operation on any alinked list will\n",
    "# happen on all linked list"
   ]
  },
  {
   "cell_type": "code",
   "execution_count": 15,
   "id": "91f312d8",
   "metadata": {},
   "outputs": [
    {
     "data": {
      "text/plain": [
       "[<__main__.LL at 0x1303df60eb0>,\n",
       " <__main__.LL at 0x1303df60eb0>,\n",
       " <__main__.LL at 0x1303df60eb0>]"
      ]
     },
     "execution_count": 15,
     "metadata": {},
     "output_type": "execute_result"
    }
   ],
   "source": [
    "M"
   ]
  },
  {
   "cell_type": "code",
   "execution_count": 16,
   "id": "2a9a965f",
   "metadata": {},
   "outputs": [],
   "source": [
    "D1 = Dictionary(4)"
   ]
  },
  {
   "cell_type": "code",
   "execution_count": 17,
   "id": "71d6f39b",
   "metadata": {},
   "outputs": [
    {
     "name": "stdout",
     "output_type": "stream",
     "text": [
      "0.25\n"
     ]
    }
   ],
   "source": [
    "D1.put(\"Python\",100)"
   ]
  },
  {
   "cell_type": "code",
   "execution_count": 18,
   "id": "9bafda3c",
   "metadata": {},
   "outputs": [],
   "source": [
    "D1.buckets[3].traverse() # it can be anywhere in buckets[1/2/3]"
   ]
  },
  {
   "cell_type": "code",
   "execution_count": 19,
   "id": "237a5189",
   "metadata": {},
   "outputs": [
    {
     "name": "stdout",
     "output_type": "stream",
     "text": [
      "0.5\n"
     ]
    }
   ],
   "source": [
    "D1.put(\"java\",56)"
   ]
  },
  {
   "cell_type": "code",
   "execution_count": 20,
   "id": "d5c547a1",
   "metadata": {},
   "outputs": [
    {
     "name": "stdout",
     "output_type": "stream",
     "text": [
      "Python --> 100   "
     ]
    }
   ],
   "source": [
    "D1.buckets[1].traverse()"
   ]
  },
  {
   "cell_type": "code",
   "execution_count": 21,
   "id": "504cd8c8",
   "metadata": {},
   "outputs": [
    {
     "name": "stdout",
     "output_type": "stream",
     "text": [
      "0.75\n",
      "1.0\n",
      "1.25\n",
      "1.5\n",
      "1.75\n"
     ]
    }
   ],
   "source": [
    "D1.put(\"c\",1000)\n",
    "D1.put(\"c++\",2000)\n",
    "D1.put(\"php\",3000)\n",
    "D1.put(\"scala\",4000)\n",
    "D1.put(\"pyspark\",5000)"
   ]
  },
  {
   "cell_type": "code",
   "execution_count": 22,
   "id": "469daba0",
   "metadata": {},
   "outputs": [
    {
     "name": "stdout",
     "output_type": "stream",
     "text": [
      "scala --> 4000   \n",
      "\n",
      "Python --> 100   php --> 3000   pyspark --> 5000   \n",
      "\n",
      "c --> 1000   \n",
      "\n",
      "java --> 56   c++ --> 2000   "
     ]
    }
   ],
   "source": [
    "D1.buckets[0].traverse()\n",
    "print('\\n')\n",
    "D1.buckets[1].traverse()\n",
    "print('\\n')\n",
    "D1.buckets[2].traverse()\n",
    "print('\\n')\n",
    "D1.buckets[3].traverse()"
   ]
  },
  {
   "cell_type": "code",
   "execution_count": null,
   "id": "246f39c5",
   "metadata": {},
   "outputs": [],
   "source": [
    "# checking load factor after >=2 , but do not know why its not working \n",
    "D1.put(\"kotlin\",6000)"
   ]
  },
  {
   "cell_type": "code",
   "execution_count": null,
   "id": "8b9d37ee",
   "metadata": {},
   "outputs": [],
   "source": [
    "D1[\"php\"]"
   ]
  },
  {
   "cell_type": "code",
   "execution_count": 23,
   "id": "0c0a2c67",
   "metadata": {},
   "outputs": [
    {
     "name": "stdout",
     "output_type": "stream",
     "text": [
      "scala --> 4000   Python --> 100   php --> 3000   pyspark --> 5000   c --> 1000   java --> 56   c++ --> 2000   \n"
     ]
    }
   ],
   "source": [
    "# this is done by __str__ method.\n",
    "print(D1)"
   ]
  },
  {
   "cell_type": "code",
   "execution_count": null,
   "id": "5e869097",
   "metadata": {},
   "outputs": [],
   "source": []
  },
  {
   "cell_type": "code",
   "execution_count": null,
   "id": "cf425bb2",
   "metadata": {},
   "outputs": [],
   "source": []
  },
  {
   "cell_type": "code",
   "execution_count": null,
   "id": "eded1f87",
   "metadata": {},
   "outputs": [],
   "source": []
  },
  {
   "cell_type": "code",
   "execution_count": 233,
   "id": "18b66a94",
   "metadata": {},
   "outputs": [
    {
     "name": "stdout",
     "output_type": "stream",
     "text": [
      "['H', 'e', 'l', 'l', 'o']\n",
      "None\n"
     ]
    }
   ],
   "source": [
    "# reverse the given string\n",
    "# def reverse_string(text):\n",
    "#     s = Stack()\n",
    "#     res=''\n",
    "    \n",
    "#     for i in text:\n",
    "#         s.push(i)\n",
    "        \n",
    "#     while (not s.is_empty()):\n",
    "#         res =res + s.pop() \n",
    "#     print(res)\n",
    "        \n",
    "# text = \"Hello\"\n",
    "# reverse_string(text)\n",
    "\n",
    "text = 'Hello'\n",
    "t =[]\n",
    "for i in text:\n",
    "    t.append(i)\n",
    "print(t)\n",
    "\n",
    "t1 = t.reverse()\n",
    "print(t1)\n",
    "    "
   ]
  },
  {
   "cell_type": "code",
   "execution_count": 394,
   "id": "f36f9de9",
   "metadata": {},
   "outputs": [
    {
     "name": "stdout",
     "output_type": "stream",
     "text": [
      "hello\n"
     ]
    }
   ],
   "source": [
    "# TEXT EDITOR\n",
    "def text_editor(text,pattern):\n",
    "        u=Stack()\n",
    "        r=Stack()\n",
    "        \n",
    "        for i in text:\n",
    "            u.push(i)\n",
    "            \n",
    "        for i in pattern:\n",
    "            \n",
    "            if i == 'u':\n",
    "                data=u.pop()\n",
    "                r.push(data)\n",
    "            \n",
    "            if i == 'r':\n",
    "                data=r.pop()\n",
    "                u.push(data)\n",
    "                \n",
    "        res = ''\n",
    "        while(not u.is_empty()):\n",
    "            res = u.pop()+ res\n",
    "            \n",
    "        print(res)\n",
    "        \n",
    "text_editor(\"hello\",\"uurr\")"
   ]
  },
  {
   "cell_type": "code",
   "execution_count": 390,
   "id": "cc77ea7f",
   "metadata": {},
   "outputs": [
    {
     "name": "stdout",
     "output_type": "stream",
     "text": [
      "Now L is empty\n"
     ]
    }
   ],
   "source": [
    "l = [1,2,3,4]\n",
    "\n",
    "while l != []:\n",
    "    l.pop()\n",
    "    \n",
    "print(\"Now L is empty\")"
   ]
  },
  {
   "cell_type": "code",
   "execution_count": 395,
   "id": "ee182fc6",
   "metadata": {},
   "outputs": [],
   "source": [
    "# Celebrity problem\n",
    "L = [\n",
    "    [0,0,1,1],\n",
    "    [0,0,1,0],\n",
    "    [0,0,0,0],\n",
    "    [0,0,1,0]\n",
    "]"
   ]
  },
  {
   "cell_type": "code",
   "execution_count": 396,
   "id": "8fb6b006",
   "metadata": {},
   "outputs": [],
   "source": [
    "def find_the_celeb(L):\n",
    "    s= Stack()\n",
    "    \n",
    "    for i in range(len(L)):\n",
    "        s.push(i)\n",
    "        \n",
    "    while size(s) >=2:\n",
    "        i=s.pop()\n",
    "        j=s.pop()\n",
    "        \n",
    "        if L[i][j]==0:\n",
    "            # j is not celebrity\n",
    "            s.push(i)\n",
    "        else:\n",
    "            # i is not celebrity\n",
    "            s.push(j)\n",
    "            \n",
    "        celeb = s.pop()\n",
    "        \n",
    "        for i in range(len(L)):\n",
    "            if i!= celeb:\n",
    "                if L[i][celeb]==0 or L[celeb][i]==1:\n",
    "                    print(\"No one is celebrity.\")\n",
    "                    return\n",
    "                \n",
    "        print(celeb,\"is a celebrity\")\n",
    "                    \n",
    "                    "
   ]
  },
  {
   "cell_type": "code",
   "execution_count": 398,
   "id": "1362beb6",
   "metadata": {},
   "outputs": [],
   "source": [
    "# find_the_celeb(L)"
   ]
  },
  {
   "cell_type": "code",
   "execution_count": 402,
   "id": "29c37702",
   "metadata": {},
   "outputs": [],
   "source": [
    "L =[1,2,3,4]"
   ]
  },
  {
   "cell_type": "code",
   "execution_count": null,
   "id": "c745fbc3",
   "metadata": {},
   "outputs": [],
   "source": []
  },
  {
   "cell_type": "code",
   "execution_count": 7,
   "id": "242464fc",
   "metadata": {},
   "outputs": [
    {
     "name": "stdout",
     "output_type": "stream",
     "text": [
      "2 2 \n",
      "1 2 \n",
      "3 4\n",
      "[[1 3]\n",
      " [2 4]]\n",
      "[1 2 3 4]\n"
     ]
    }
   ],
   "source": [
    "import numpy\n",
    "n, m = map(int, input().split())\n",
    "\n",
    "storage = numpy.array([input().strip().split() for _ in range(n)], int)\n",
    "print (storage.transpose())\n",
    "print (storage.flatten())\n"
   ]
  },
  {
   "cell_type": "code",
   "execution_count": 36,
   "id": "5c708297",
   "metadata": {},
   "outputs": [
    {
     "name": "stdout",
     "output_type": "stream",
     "text": [
      "MapReduc is a process techniqu and a program model for distribu comput bas on java \n"
     ]
    }
   ],
   "source": [
    "# stemmer programme\n",
    "text = \"MapReduce is a processing technique and a program model for distributed computing based on java\"\n",
    "\n",
    "text1 = ''\n",
    "# txt = list(text.split())\n",
    "# print(txt)\n",
    "\n",
    "# for i in txt:\n",
    "#     if i[-2:]==\"ed\" :\n",
    "#         i=i[:-2]\n",
    "#     if i[-2:]==\"ly\" :\n",
    "#         i=i[:-2]\n",
    "#     if i[-3:]==\"ing\":\n",
    "#         i=i[:-3]\n",
    "#     if len(i)>8:\n",
    "#         i=i[:8]\n",
    "#     text1+=i+' '\n",
    "    \n",
    "# print(text1)\n",
    "\n",
    "import re \n",
    "for word in text.split():\n",
    "    word = re.sub(r\"(ly|ed|ing)$\", \"\", word)\n",
    "# truncate the word to 8 characters if it is longer than 8 characters\n",
    "    if len(word) > 8:\n",
    "        word = word[:8]\n",
    "    text1+=word+' '\n",
    "\n",
    "print(text1)\n"
   ]
  },
  {
   "cell_type": "code",
   "execution_count": 42,
   "id": "c60eabfd",
   "metadata": {},
   "outputs": [
    {
     "name": "stdout",
     "output_type": "stream",
     "text": [
      "how\n",
      "are\n",
      "you\n",
      "{'he': 2, 'boys': 1, 'how': 3, 'are': 3, 'you': 3, 'doing': 1, ',': 1, 'is': 2, 'all': 1, 'going': 1, 'good.': 1, 'ram': 1, 'and': 1, 'your': 1, 'health': 1, 'now': 1, 'deeling': 1, 'well': 1}\n"
     ]
    }
   ],
   "source": [
    "# Stop words programme\n",
    "\n",
    "text = 'he boys how are you doing , is all going good. he ram how are you and how is your health now are you deeling well '\n",
    "\n",
    "# split the text into words\n",
    "words = text.split()\n",
    "\n",
    "# create a dictionary to store the word counts\n",
    "word_counts = {}\n",
    "\n",
    "# iterate over the words and update their counts in the dictionary\n",
    "for word in words:\n",
    "    if word in word_counts:\n",
    "        word_counts[word] += 1\n",
    "    else:\n",
    "        word_counts[word] = 1\n",
    "\n",
    "# output the words that occur more than 2 times\n",
    "output_words = [word for word, count in word_counts.items() if count > 2]\n",
    "print(\"\\n\".join(output_words))\n",
    "print(word_counts)"
   ]
  },
  {
   "cell_type": "code",
   "execution_count": null,
   "id": "dfa6cbb0",
   "metadata": {},
   "outputs": [],
   "source": []
  },
  {
   "cell_type": "markdown",
   "id": "f9b6cbb2",
   "metadata": {},
   "source": [
    "# Basic Algorithms"
   ]
  },
  {
   "cell_type": "markdown",
   "id": "80691caf",
   "metadata": {},
   "source": [
    "* Linear searching\n",
    "* Binary\n",
    "\n",
    "## sorting\n",
    "* Sleep sort (not imp)\n",
    "* monkey sort(not imp)\n",
    "* bubble sort\n",
    "* selection sort \n",
    "* merge sort \n",
    "* Quick sort\n",
    "* Insertion sort"
   ]
  },
  {
   "cell_type": "code",
   "execution_count": 1,
   "id": "37ce4cd9",
   "metadata": {},
   "outputs": [],
   "source": [
    "# linear Search\n",
    "# brute force(means compare with every thing)\n",
    "\n",
    "def linear_search(arr,item):\n",
    "    for i in range(len(arr)):\n",
    "        \n",
    "        if arr[i] == item:\n",
    "            return i\n",
    "    return \"Not found\"\n",
    "# time complexity is O(N), no need of sorting"
   ]
  },
  {
   "cell_type": "code",
   "execution_count": 2,
   "id": "b582d267",
   "metadata": {},
   "outputs": [],
   "source": [
    "arr =[4,8,5,6,2,3]"
   ]
  },
  {
   "cell_type": "code",
   "execution_count": 3,
   "id": "f2f1f7f4",
   "metadata": {},
   "outputs": [
    {
     "data": {
      "text/plain": [
       "3"
      ]
     },
     "execution_count": 3,
     "metadata": {},
     "output_type": "execute_result"
    }
   ],
   "source": [
    "linear_search(arr,6)"
   ]
  },
  {
   "cell_type": "code",
   "execution_count": 2,
   "id": "acd6c9a8",
   "metadata": {},
   "outputs": [],
   "source": [
    "# Binary Search(works only on sorted array )\n",
    "# Recursive binary search\n",
    "# Ammortized cost \n",
    "# n < nlog_n + log_n but\n",
    "# k(n) > (1)nlog_n + (k)log_n\n",
    "\n",
    "def binary_search(arr,low,high,item):\n",
    "    if low <= high:\n",
    "        #till search\n",
    "        mid = (low+high)//2\n",
    "        if arr[mid]==item:\n",
    "            return mid\n",
    "        elif arr[mid] > item:\n",
    "            return binary_search(arr,low,mid-1,item)\n",
    "        else:\n",
    "            return binary_search(arr,mid+1,high,item)\n",
    "    else:\n",
    "        return \"Item not found\"\n"
   ]
  },
  {
   "cell_type": "code",
   "execution_count": 15,
   "id": "09fa6597",
   "metadata": {},
   "outputs": [
    {
     "name": "stdout",
     "output_type": "stream",
     "text": [
      "enter item: 15\n",
      "1\n"
     ]
    }
   ],
   "source": [
    "arr = [12,15,19,27,29,35,39,44]\n",
    "item = int(input(\"enter item: \"))\n",
    "\n",
    "print(binary_search(arr,0,len(arr)-1,item))"
   ]
  },
  {
   "cell_type": "code",
   "execution_count": 1,
   "id": "8039c9b0",
   "metadata": {},
   "outputs": [
    {
     "name": "stdout",
     "output_type": "stream",
     "text": [
      "list of how much element ?5\n",
      "Enter 1 element :\n",
      "15\n",
      "Enter 2 element :\n",
      "25\n",
      "Enter 3 element :\n",
      "78\n",
      "Enter 4 element :\n",
      "89\n",
      "Enter 5 element :\n",
      "14\n",
      "[15, 25, 78, 89, 14]\n"
     ]
    }
   ],
   "source": [
    "# taking input for printing list\n",
    "a = int(input(\"list of how much element ?\"))\n",
    "b =[]\n",
    "c=0\n",
    "\n",
    "for i in range(a):\n",
    "    print(\"Enter\", i+1, \"element :\")\n",
    "    c=int(input())\n",
    "    b.append(c)\n",
    "\n",
    "print(b)\n",
    "    \n",
    "    "
   ]
  },
  {
   "cell_type": "code",
   "execution_count": 3,
   "id": "573b8ce1",
   "metadata": {},
   "outputs": [],
   "source": [
    "# sorted\n",
    "\n",
    "def is_sorted(arr):\n",
    "    sorted = True\n",
    "    for i in range(len(arr)-1):\n",
    "        if arr[i]>arr[i+1]:\n",
    "            sorted = False\n",
    "            \n",
    "    return sorted"
   ]
  },
  {
   "cell_type": "code",
   "execution_count": 4,
   "id": "a32b884b",
   "metadata": {},
   "outputs": [
    {
     "data": {
      "text/plain": [
       "False"
      ]
     },
     "execution_count": 4,
     "metadata": {},
     "output_type": "execute_result"
    }
   ],
   "source": [
    "arr = [1,2,3,2,5,6]\n",
    "is_sorted(arr)"
   ]
  },
  {
   "cell_type": "markdown",
   "id": "e70717b4",
   "metadata": {},
   "source": [
    "### 1) monkey sort (do not try it please :( )\n",
    "* best case O(1) \n",
    "* worst case infinite"
   ]
  },
  {
   "cell_type": "code",
   "execution_count": 5,
   "id": "dbee0f4b",
   "metadata": {},
   "outputs": [
    {
     "data": {
      "text/plain": [
       "[3, 2, 9, 1, 5, 4]"
      ]
     },
     "execution_count": 5,
     "metadata": {},
     "output_type": "execute_result"
    }
   ],
   "source": [
    "import time\n",
    "import random \n",
    "lst = [3,4,1,2,5,9]\n",
    "random.shuffle(lst)\n",
    "lst"
   ]
  },
  {
   "cell_type": "code",
   "execution_count": 2,
   "id": "045fd71e",
   "metadata": {},
   "outputs": [],
   "source": [
    "# def monkey_sort(arr):\n",
    "#     while not is_sorted(arr):\n",
    "#         random.shuffle(arr)\n",
    "#         time.sleep(1)\n",
    "#         print(arr)\n",
    "        \n",
    "#     print(\"sorted array :\", arr)\n",
    "    \n",
    "# arr = [3,4,1,2,5,9]\n",
    "# monkey_sort(arr)"
   ]
  },
  {
   "cell_type": "markdown",
   "id": "4643db0f",
   "metadata": {},
   "source": [
    "### 2)sleep sort (lazy)\n",
    "a = [4,2,6,8,23,21]\n",
    "* item will print after the time equivalent to  value of number"
   ]
  },
  {
   "cell_type": "markdown",
   "id": "2af3f20c",
   "metadata": {},
   "source": [
    "### ADAPTIVE SORT \n",
    "* (If algorithm given already sorted array , it should understand it) \n",
    "* A sorting algorithm falls into the adaptive sort family if it takes advantage of existing order in its input. It benefits from the presortedness in the input sequence – or a limited amount of disorder for various definitions of measures of disorder – and sorts faster. Adaptive sorting is usually performed by modifying existing sorting algorithms."
   ]
  },
  {
   "cell_type": "markdown",
   "id": "f887053e",
   "metadata": {},
   "source": [
    "## 3)Bubble sort \n",
    "BRUTE FORCE \n",
    "* Worst time complexit O(n^2)\n",
    "* Worst space compexity O(1)\n",
    "* By nature not adaptive but can make by using flag\n",
    "* Bubble sort is STABLE bcz this line(if arr[j]>arr[j+1]:)"
   ]
  },
  {
   "cell_type": "code",
   "execution_count": 46,
   "id": "16bc8323",
   "metadata": {},
   "outputs": [],
   "source": [
    "# not adaptive\n",
    "def bubble_sort(arr):\n",
    " \n",
    "    for i in range(len(arr)-1):\n",
    "        flag = 0\n",
    "        for j in range(len(arr)-1-i):\n",
    "            if arr[j]>arr[j+1]:\n",
    "                arr[j],arr[j+1]=arr[j+1],arr[j]\n",
    "                flag = 1\n",
    "        if flag == 0:\n",
    "                break\n",
    "                \n",
    "    return arr"
   ]
  },
  {
   "cell_type": "code",
   "execution_count": 39,
   "id": "75920d00",
   "metadata": {},
   "outputs": [
    {
     "data": {
      "text/plain": [
       "''"
      ]
     },
     "execution_count": 39,
     "metadata": {},
     "output_type": "execute_result"
    }
   ],
   "source": [
    "arr = [5,7,6,2,1,8,9,1,5]\n",
    "bubble_sort(arr)\n"
   ]
  },
  {
   "cell_type": "markdown",
   "id": "49ea7573",
   "metadata": {},
   "source": [
    "## 4) Selection sort (less swapping)\n",
    "* time complexity - O(N^2)\n",
    "* space complexity - O(1)\n",
    "* not adaptive (we can not make it adaptive)\n",
    "* best case bubble sort is good whereas for worst case selection sort is good.\n",
    "* not stable because order of same digit may changes"
   ]
  },
  {
   "cell_type": "code",
   "execution_count": 22,
   "id": "674ede4c",
   "metadata": {},
   "outputs": [],
   "source": [
    "# written by me\n",
    "def selectionSort(arr):\n",
    "    \n",
    "    for i in range(len(arr)-1):\n",
    "        min_ = arr[i]\n",
    "        for j in range(i+1,len(arr)):\n",
    "            if min_ > arr[j]:\n",
    "                min_ = arr[j]\n",
    "                arr[j],arr[i]=arr[i],arr[j]\n",
    "                \n",
    "    return arr\n",
    "        "
   ]
  },
  {
   "cell_type": "code",
   "execution_count": 23,
   "id": "82f9ed80",
   "metadata": {},
   "outputs": [
    {
     "name": "stdout",
     "output_type": "stream",
     "text": [
      "[1, 5, 6, 7, 8]\n"
     ]
    }
   ],
   "source": [
    "arr = [5,7,8,6,1]\n",
    "selection_sort(arr)"
   ]
  },
  {
   "cell_type": "code",
   "execution_count": 41,
   "id": "53018442",
   "metadata": {},
   "outputs": [],
   "source": [
    "def selection_sort(arr):\n",
    "    for i in range(len(arr)-1):\n",
    "            min_ = i\n",
    "            \n",
    "            for j in range(i+1,len(arr)):\n",
    "                if arr[j] < arr[min_]:\n",
    "                    min_=j\n",
    "                    \n",
    "            arr[i],arr[min_] = arr[min_],arr[i]\n",
    "            \n",
    "    return arr\n",
    "    \n",
    "    "
   ]
  },
  {
   "cell_type": "code",
   "execution_count": 42,
   "id": "fecbd59a",
   "metadata": {},
   "outputs": [
    {
     "data": {
      "text/plain": [
       "[1, 5, 6, 7, 8]"
      ]
     },
     "execution_count": 42,
     "metadata": {},
     "output_type": "execute_result"
    }
   ],
   "source": [
    "arr = [5,7,8,6,1]\n",
    "selection_sort(arr)"
   ]
  },
  {
   "cell_type": "code",
   "execution_count": 90,
   "id": "e968db35",
   "metadata": {},
   "outputs": [],
   "source": [
    "import random \n",
    "L =[]\n",
    "for i in range(100000):\n",
    "    L.append(random.randint(1,100000))"
   ]
  },
  {
   "cell_type": "code",
   "execution_count": 44,
   "id": "9dcb586a",
   "metadata": {},
   "outputs": [],
   "source": [
    "# cloning\n",
    "L1 = L[:]"
   ]
  },
  {
   "cell_type": "code",
   "execution_count": 74,
   "id": "9d159666",
   "metadata": {},
   "outputs": [
    {
     "name": "stdout",
     "output_type": "stream",
     "text": [
      "Time taken by bubble sort 0.000997304916381836  secs\n",
      "Time taken by selection sort 2.9940364360809326  secs\n"
     ]
    }
   ],
   "source": [
    "# due to less swapping selection sort is fast\n",
    "# since we make buuble sort adaptive on sorted list it works faster\n",
    "import time\n",
    "\n",
    "start = time.time()\n",
    "bubble_sort(L)\n",
    "print(\"Time taken by bubble sort\",time.time()-start,\" secs\")\n",
    "\n",
    "start = time.time()\n",
    "selection_sort(L)\n",
    "print(\"Time taken by selection sort\",time.time()-start,\" secs\")\n"
   ]
  },
  {
   "cell_type": "markdown",
   "id": "26708836",
   "metadata": {},
   "source": [
    "## Merge Sort(divide and conquer)\n",
    "* time complexity O(nlog_n)\n",
    "* space complexity O(x*N) if you make inplace changes space comp will become O(N)\n",
    "* not a adaptive algorithm\n",
    "* stable algorithm"
   ]
  },
  {
   "cell_type": "code",
   "execution_count": 62,
   "id": "d54af94e",
   "metadata": {},
   "outputs": [],
   "source": [
    "def merge_sorted(arr1,arr2):\n",
    "    # input array should be sorted since we are using this function in merge_sort algo\n",
    "    i=j=0\n",
    "    merged = []\n",
    "    while i < len(arr1) and j < len(arr2):\n",
    "        if arr1[i] < arr2[j]:\n",
    "            merged.append(arr1[i])\n",
    "            i+=1\n",
    "        else:\n",
    "            merged.append(arr2[j])\n",
    "            j+=1\n",
    "            \n",
    "    while i < len(arr1):\n",
    "        merged.append(arr1[i])\n",
    "        i+=1\n",
    "\n",
    "    while j < len(arr2):\n",
    "        merged.append(arr2[j])\n",
    "        j+=1\n",
    "    \n",
    "    return merged"
   ]
  },
  {
   "cell_type": "code",
   "execution_count": 63,
   "id": "ade96681",
   "metadata": {},
   "outputs": [
    {
     "data": {
      "text/plain": [
       "[5, 7, 8, 9, 14, 25]"
      ]
     },
     "execution_count": 63,
     "metadata": {},
     "output_type": "execute_result"
    }
   ],
   "source": [
    "arr1 = [5,7,9]\n",
    "arr2 = [8,14,25]\n",
    "\n",
    "merge_sorted(arr1,arr2)"
   ]
  },
  {
   "cell_type": "code",
   "execution_count": 64,
   "id": "794b1be6",
   "metadata": {},
   "outputs": [],
   "source": [
    "def merge_sort(arr):\n",
    "    # purely recursive\n",
    "    if len(arr)==1:\n",
    "        return arr\n",
    "    \n",
    "    mid = len(arr)//2\n",
    "    left = arr[:mid]\n",
    "    right = arr[mid:]\n",
    "    \n",
    "    left = merge_sort(left)\n",
    "    right = merge_sort(right)\n",
    "    \n",
    "    return merge_sorted(left,right)"
   ]
  },
  {
   "cell_type": "code",
   "execution_count": 65,
   "id": "0704b36b",
   "metadata": {},
   "outputs": [
    {
     "data": {
      "text/plain": [
       "[1, 2, 2, 3, 4, 4, 5, 8, 12, 45, 51, 61, 78, 95, 96]"
      ]
     },
     "execution_count": 65,
     "metadata": {},
     "output_type": "execute_result"
    }
   ],
   "source": [
    "arr = [45,78,12,96,3,4,8,4,5,2,95,1,2,61,51]\n",
    "merge_sort(arr)"
   ]
  },
  {
   "cell_type": "markdown",
   "id": "77d8d71f",
   "metadata": {},
   "source": [
    "### using inplace to reduce space complxity\n",
    "* we making cahnges in existing array\n",
    "* so space complexity in O(N)"
   ]
  },
  {
   "cell_type": "code",
   "execution_count": 66,
   "id": "b7d16be8",
   "metadata": {},
   "outputs": [],
   "source": [
    "def merge_sorted(arr1,arr2,arr):\n",
    "    # input array should be sorted since we are using this function in merge_sort algo\n",
    "    i=j=k=0\n",
    "    merged = []\n",
    "    while i < len(arr1) and j < len(arr2):\n",
    "        if arr1[i] < arr2[j]:\n",
    "            arr[k]=arr1[i]\n",
    "            i+=1\n",
    "        else:\n",
    "            arr[k]=arr2[j]\n",
    "            j+=1\n",
    "        k+=1    \n",
    "        \n",
    "    while i < len(arr1):\n",
    "        arr[k]=arr1[i]\n",
    "        i+=1\n",
    "        k+=1\n",
    "\n",
    "\n",
    "    while j < len(arr2):\n",
    "        arr[k]=arr2[j]\n",
    "        j+=1\n",
    "        k+=1\n",
    "    \n",
    "    return "
   ]
  },
  {
   "cell_type": "code",
   "execution_count": 69,
   "id": "5c6bed1a",
   "metadata": {},
   "outputs": [],
   "source": [
    "def merge_sort(arr):\n",
    "    # purely recursive\n",
    "    if len(arr)==1:\n",
    "        return arr\n",
    "    \n",
    "    mid = len(arr)//2\n",
    "    left = arr[:mid]\n",
    "    right = arr[mid:]\n",
    "    \n",
    "    merge_sort(left)\n",
    "    merge_sort(right)\n",
    "    \n",
    "    merge_sorted(left,right,arr)\n",
    "    \n",
    "    return "
   ]
  },
  {
   "cell_type": "code",
   "execution_count": 97,
   "id": "b0cbc75f",
   "metadata": {},
   "outputs": [
    {
     "name": "stdout",
     "output_type": "stream",
     "text": [
      "0.42205357551574707\n"
     ]
    }
   ],
   "source": [
    "arr = [45,78,12,96,3,4,8,5,2,95,61,51]\n",
    "start = time.time()\n",
    "merge_sort(L)# L is from random creation of list using random.randint\n",
    "print(time.time()-start)\n"
   ]
  },
  {
   "cell_type": "code",
   "execution_count": null,
   "id": "66ee7726",
   "metadata": {},
   "outputs": [],
   "source": []
  },
  {
   "cell_type": "code",
   "execution_count": null,
   "id": "fae22438",
   "metadata": {},
   "outputs": [],
   "source": []
  }
 ],
 "metadata": {
  "kernelspec": {
   "display_name": "Python 3 (ipykernel)",
   "language": "python",
   "name": "python3"
  },
  "language_info": {
   "codemirror_mode": {
    "name": "ipython",
    "version": 3
   },
   "file_extension": ".py",
   "mimetype": "text/x-python",
   "name": "python",
   "nbconvert_exporter": "python",
   "pygments_lexer": "ipython3",
   "version": "3.9.15"
  }
 },
 "nbformat": 4,
 "nbformat_minor": 5
}
